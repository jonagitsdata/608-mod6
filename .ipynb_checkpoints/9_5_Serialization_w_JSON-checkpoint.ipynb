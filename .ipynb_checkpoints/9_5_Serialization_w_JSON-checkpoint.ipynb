{
 "cells": [
  {
   "cell_type": "code",
   "execution_count": 1,
   "id": "990c093a",
   "metadata": {},
   "outputs": [],
   "source": [
    "accounts_dict = {'accounts': [\n",
    "    {'account': 100, 'name': 'Jones', 'balance': 24.98},\n",
    "    {'account': 200, 'name': 'Doe', 'balance': 345.67}]}"
   ]
  },
  {
   "cell_type": "code",
   "execution_count": 2,
   "id": "fda815b1",
   "metadata": {},
   "outputs": [],
   "source": [
    "import json\n",
    "with open('accounts.json', 'w') as accounts:\n",
    "    json.dump(accounts_dict, accounts)"
   ]
  },
  {
   "cell_type": "code",
   "execution_count": 3,
   "id": "83968dd1",
   "metadata": {},
   "outputs": [],
   "source": [
    "with open('accounts.json', 'r') as accounts:\n",
    "    accounts_json = json.load(accounts)\n",
    "    \n"
   ]
  },
  {
   "cell_type": "code",
   "execution_count": 4,
   "id": "6858ecf2",
   "metadata": {},
   "outputs": [
    {
     "data": {
      "text/plain": [
       "{'accounts': [{'account': 100, 'name': 'Jones', 'balance': 24.98},\n",
       "  {'account': 200, 'name': 'Doe', 'balance': 345.67}]}"
      ]
     },
     "execution_count": 4,
     "metadata": {},
     "output_type": "execute_result"
    }
   ],
   "source": [
    "accounts_json"
   ]
  },
  {
   "cell_type": "code",
   "execution_count": 5,
   "id": "1be4372f",
   "metadata": {},
   "outputs": [
    {
     "data": {
      "text/plain": [
       "[{'account': 100, 'name': 'Jones', 'balance': 24.98},\n",
       " {'account': 200, 'name': 'Doe', 'balance': 345.67}]"
      ]
     },
     "execution_count": 5,
     "metadata": {},
     "output_type": "execute_result"
    }
   ],
   "source": [
    "accounts_json['accounts']"
   ]
  },
  {
   "cell_type": "code",
   "execution_count": 6,
   "id": "db0d7c35",
   "metadata": {},
   "outputs": [
    {
     "data": {
      "text/plain": [
       "{'account': 100, 'name': 'Jones', 'balance': 24.98}"
      ]
     },
     "execution_count": 6,
     "metadata": {},
     "output_type": "execute_result"
    }
   ],
   "source": [
    "accounts_json['accounts'][0]"
   ]
  },
  {
   "cell_type": "code",
   "execution_count": 7,
   "id": "e9be5eb8",
   "metadata": {},
   "outputs": [
    {
     "data": {
      "text/plain": [
       "{'account': 200, 'name': 'Doe', 'balance': 345.67}"
      ]
     },
     "execution_count": 7,
     "metadata": {},
     "output_type": "execute_result"
    }
   ],
   "source": [
    "accounts_json['accounts'][1]"
   ]
  },
  {
   "cell_type": "code",
   "execution_count": 8,
   "id": "e23cdb5c",
   "metadata": {},
   "outputs": [
    {
     "name": "stdout",
     "output_type": "stream",
     "text": [
      "{\n",
      "    \"accounts\": [\n",
      "        {\n",
      "            \"account\": 100,\n",
      "            \"name\": \"Jones\",\n",
      "            \"balance\": 24.98\n",
      "        },\n",
      "        {\n",
      "            \"account\": 200,\n",
      "            \"name\": \"Doe\",\n",
      "            \"balance\": 345.67\n",
      "        }\n",
      "    ]\n",
      "}\n"
     ]
    },
    {
     "data": {
      "text/plain": [
       "{'accounts': [{'account': 100, 'name': 'Jones', 'balance': 24.98},\n",
       "  {'account': 200, 'name': 'Doe', 'balance': 345.67}]}"
      ]
     },
     "execution_count": 8,
     "metadata": {},
     "output_type": "execute_result"
    }
   ],
   "source": [
    "with open('accounts.json', 'r') as accounts:\n",
    "    print(json.dumps(json.load(accounts), indent=4))\n",
    "    \n",
    "{\n",
    "    \"accounts\": [\n",
    "        {\n",
    "            \"account\": 100,\n",
    "            \"name\": \"Jones\",\n",
    "            \"balance\": 24.98\n",
    "        },\n",
    "        {\n",
    "            \"account\": 200,\n",
    "            \"name\": \"Doe\",\n",
    "            \"balance\": 345.67\n",
    "        }\n",
    "    ]\n",
    "}"
   ]
  },
  {
   "cell_type": "code",
   "execution_count": 9,
   "id": "66cbc271",
   "metadata": {},
   "outputs": [],
   "source": [
    "import json\n",
    "\n",
    "grades_dict = {'gradebook':\n",
    "              [{'student_id': 1, 'name': 'Red', 'grade':'A'},\n",
    "               {'student_id': 2, 'name': 'Green', 'grade':'B'},\n",
    "               {'student_id': 3, 'name': 'White', 'grade': 'A'}]}\n",
    "\n",
    "with open('grades.json', 'w') as grades:\n",
    "    json.dump(grades_dict, grades)"
   ]
  },
  {
   "cell_type": "code",
   "execution_count": 10,
   "id": "f41580f3",
   "metadata": {},
   "outputs": [
    {
     "name": "stdout",
     "output_type": "stream",
     "text": [
      "{\n",
      "    \"gradebook\": [\n",
      "        {\n",
      "            \"student_id\": 1,\n",
      "            \"name\": \"Red\",\n",
      "            \"grade\": \"A\"\n",
      "        },\n",
      "        {\n",
      "            \"student_id\": 2,\n",
      "            \"name\": \"Green\",\n",
      "            \"grade\": \"B\"\n",
      "        },\n",
      "        {\n",
      "            \"student_id\": 3,\n",
      "            \"name\": \"White\",\n",
      "            \"grade\": \"A\"\n",
      "        }\n",
      "    ]\n",
      "}\n"
     ]
    },
    {
     "data": {
      "text/plain": [
       "{'gradebook': [{'student_id': 1, 'name': 'Red', 'grade': 'A'},\n",
       "  {'student_id': 2, 'name': 'Green', 'grade': 'B'},\n",
       "  {'student_id': 3, 'name': 'White', 'grade': 'A'}]}"
      ]
     },
     "execution_count": 10,
     "metadata": {},
     "output_type": "execute_result"
    }
   ],
   "source": [
    "with open('grades.json', 'r') as grades:\n",
    "    print(json.dumps(json.load(grades), indent=4))\n",
    "    \n",
    "{\n",
    "    \"gradebook\": [\n",
    "        {\n",
    "            \"student_id\": 1,\n",
    "            \"name\": \"Red\",\n",
    "            \"grade\": \"A\"\n",
    "        },\n",
    "        {\n",
    "            \"student_id\": 2,\n",
    "            \"name\": \"Green\",\n",
    "            \"grade\": \"B\"\n",
    "        },\n",
    "        {\n",
    "            \"student_id\": 3,\n",
    "            \"name\": \"White\",\n",
    "            \"grade\": \"A\"\n",
    "        }\n",
    "    ]\n",
    "}"
   ]
  },
  {
   "cell_type": "code",
   "execution_count": null,
   "id": "9c2cfc93",
   "metadata": {},
   "outputs": [],
   "source": []
  }
 ],
 "metadata": {
  "kernelspec": {
   "display_name": "Python 3 (ipykernel)",
   "language": "python",
   "name": "python3"
  },
  "language_info": {
   "codemirror_mode": {
    "name": "ipython",
    "version": 3
   },
   "file_extension": ".py",
   "mimetype": "text/x-python",
   "name": "python",
   "nbconvert_exporter": "python",
   "pygments_lexer": "ipython3",
   "version": "3.9.7"
  }
 },
 "nbformat": 4,
 "nbformat_minor": 5
}
